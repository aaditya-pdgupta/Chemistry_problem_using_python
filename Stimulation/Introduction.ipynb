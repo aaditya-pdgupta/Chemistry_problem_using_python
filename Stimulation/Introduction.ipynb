{
 "cells": [
  {
   "cell_type": "markdown",
   "id": "814642e4",
   "metadata": {},
   "source": [
    "# Simulations \n",
    "\n",
    "#### Simulations are a major component in modern chemistry which refers to the use of computer programs to model and predict the behaviors of chemical sytems and reactions. Simulations are beside experimentation the major method for designing, analyzing and optimizing chemical process. The ability of stimulations to reflect real process behavior strongly depends on model quality. Simulations helps in understanding the molecular structure, properties and reactivity of chemical substances. This enables researcher to study complex chemical processes, design new materials and optimize reaction conditions.\n",
    "\n",
    "#### Simulations do not need represent every aspect of the real world as long as the omitted details do not reduce the accuracy or precision to a level that the simulation is no longer useful. Modern chemical simulations are often quite complex and are performed with a range of free or commercial software. In this manuscript, we will discuss about different simulations with simple methodologies that can be easily coded in Python using standard libraries such as NumPy, SciPy and matplotlib."
   ]
  },
  {
   "cell_type": "markdown",
   "id": "678be1a0",
   "metadata": {},
   "source": [
    "## Deterministic Simulations\n",
    "\n",
    "#### Deterministic simulations are computer based models that are use mathemaical algorigthms and equations to simulate and predict the behavior of complex systems. It simulate with no random variables with fixed outcomes dedicated by the code and input parameters. They produce same outcomes if they are run multiple times with same input and parameters. However, it is important to note that deternistic simulations are not always an accurate representation of real-world sytems, as they may not account for all factors that can affect the behavior of the system. Even though many physical and chemical process are driven by randomness, such as the random movements and collision of molecules, it makes the randomness conform to predictable pattern which can be seen in Nuclear Magnetic Resonance (NMR) spilliting pattern and chemical kinematics among many others below.\n",
    "\n"
   ]
  },
  {
   "cell_type": "code",
   "execution_count": 12,
   "id": "f685b7ad",
   "metadata": {},
   "outputs": [],
   "source": [
    "import numpy as np\n",
    "import scipy.integrate\n",
    "import matplotlib.pyplot as plt\n",
    "%matplotlib inline"
   ]
  },
  {
   "cell_type": "code",
   "execution_count": 22,
   "id": "f894fadb",
   "metadata": {},
   "outputs": [
    {
     "data": {
      "text/plain": [
       "[1.0085000000000002, 1.0, 1.0, 0.9915]"
      ]
     },
     "execution_count": 22,
     "metadata": {},
     "output_type": "execute_result"
    }
   ],
   "source": [
    "def split(peaks, n, J, freq=400):\n",
    "    '''(list, int, float, freq=num) -> list\n",
    "    Takes in a list of peak ppm values for a single \n",
    "    resonance(peaks),the number of identical neighboring \n",
    "    protons(n), the coupling constant (J) in Hz, and the \n",
    "    frequency of observation (freq) in MHz and returns a \n",
    "    list of ppm values for all peaks in the splitting pattern.\n",
    "    '''\n",
    "    # check validity of input values\n",
    "    if not isinstance(peaks, list):\n",
    "        peaks = list([peaks])\n",
    "    if not isinstance(n, int):\n",
    "        print('Error: n must be an integer.')\n",
    "        return None\n",
    "    \n",
    "    # split the peak(s)\n",
    "    J_ppm  = J / freq\n",
    "    new_peaks = []\n",
    "    for peak in peaks:\n",
    "        new_peaks.extend([peak + 0.5 * J_ppm, peak - 0.5 * J_ppm])\n",
    "        \n",
    "    n =n - 1\n",
    "    \n",
    "    # perform next split or return result\n",
    "    if n > 0:\n",
    "        return split(new_peaks, n, J, freq=freq)\n",
    "    else:\n",
    "        return new_peaks\n",
    "split(1.00, 2, J=3.4, freq=400)"
   ]
  },
  {
   "cell_type": "code",
   "execution_count": 23,
   "id": "6c50a25c",
   "metadata": {},
   "outputs": [
    {
     "data": {
      "text/plain": [
       "[<matplotlib.lines.Line2D at 0x1e9d84601c0>]"
      ]
     },
     "execution_count": 23,
     "metadata": {},
     "output_type": "execute_result"
    },
    {
     "data": {
      "image/png": "[encoded data removed]",
      "text/plain": [
       "<Figure size 432x288 with 1 Axes>"
      ]
     },
     "metadata": {
      "needs_background": "light"
     },
     "output_type": "display_data"
    }
   ],
   "source": [
    "signal, ppm = np.histogram(split([1.00], 2, J=6.8), bins=1000)\n",
    "plt.plot(ppm[1:], signal)"
   ]
  },
  {
   "cell_type": "code",
   "execution_count": null,
   "id": "a8c8bb54",
   "metadata": {},
   "outputs": [],
   "source": []
  }
 ],
 "metadata": {
  "kernelspec": {
   "display_name": "Python 3 (ipykernel)",
   "language": "python",
   "name": "python3"
  },
  "language_info": {
   "codemirror_mode": {
    "name": "ipython",
    "version": 3
   },
   "file_extension": ".py",
   "mimetype": "text/x-python",
   "name": "python",
   "nbconvert_exporter": "python",
   "pygments_lexer": "ipython3",
   "version": "3.9.12"
  }
 },
 "nbformat": 4,
 "nbformat_minor": 5
}
