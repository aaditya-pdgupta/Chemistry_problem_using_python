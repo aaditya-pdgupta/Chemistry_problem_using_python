{
 "cells": [
  {
   "cell_type": "markdown",
   "id": "814642e4",
   "metadata": {},
   "source": [
    "# Simulations \n",
    "\n",
    "#### Simulations are a major component in modern chemistry which refers to the use of computer programs to model and predict the behaviors of chemical sytems and reactions. Simulation is besides experimentation "
   ]
  },
  {
   "cell_type": "code",
   "execution_count": null,
   "id": "e7cac73c",
   "metadata": {},
   "outputs": [],
   "source": []
  }
 ],
 "metadata": {
  "kernelspec": {
   "display_name": "Python 3 (ipykernel)",
   "language": "python",
   "name": "python3"
  },
  "language_info": {
   "codemirror_mode": {
    "name": "ipython",
    "version": 3
   },
   "file_extension": ".py",
   "mimetype": "text/x-python",
   "name": "python",
   "nbconvert_exporter": "python",
   "pygments_lexer": "ipython3",
   "version": "3.9.12"
  }
 },
 "nbformat": 4,
 "nbformat_minor": 5
}
