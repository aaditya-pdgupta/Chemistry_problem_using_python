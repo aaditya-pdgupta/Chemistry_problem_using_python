{
 "cells": [
  {
   "cell_type": "markdown",
   "id": "814642e4",
   "metadata": {},
   "source": [
    "# Simulations \n",
    "\n",
    "#### Simulations are a major component in modern chemistry which refers to the use of computer programs to model and predict the behaviors of chemical sytems and reactions. Simulations are beside experimentation the major method for designing, analyzing and optimizing chemical process. The ability of stimulations to reflect real process behavior strongly depends on model quality. Simulations helps in understanding the molecular structure, properties and reactivity of chemical substances. This enables researcher to study complex chemical processes, design new materials and optimize reaction conditions.\n",
    "\n",
    "#### Simulations do not need represent every aspect of the real world as long as the omitted details do not reduce the accuracy or precision to a level that the simulation is no longer useful. Modern chemical simulations are often quite complex and are performed with a range of free or commercial software. In this manuscript, we will discuss about different simulations with simple methodologies that can be easily coded in Python using standard libraries such as NumPy, SciPy and matplotlib."
   ]
  },
  {
   "cell_type": "code",
   "execution_count": null,
   "id": "e930793b",
   "metadata": {},
   "outputs": [],
   "source": []
  }
 ],
 "metadata": {
  "kernelspec": {
   "display_name": "Python 3 (ipykernel)",
   "language": "python",
   "name": "python3"
  },
  "language_info": {
   "codemirror_mode": {
    "name": "ipython",
    "version": 3
   },
   "file_extension": ".py",
   "mimetype": "text/x-python",
   "name": "python",
   "nbconvert_exporter": "python",
   "pygments_lexer": "ipython3",
   "version": "3.9.12"
  }
 },
 "nbformat": 4,
 "nbformat_minor": 5
}
